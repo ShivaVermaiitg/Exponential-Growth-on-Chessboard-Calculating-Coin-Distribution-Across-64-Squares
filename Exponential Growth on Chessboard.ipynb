{
  "metadata": {
    "kernelspec": {
      "name": "python",
      "display_name": "Python (Pyodide)",
      "language": "python"
    },
    "language_info": {
      "codemirror_mode": {
        "name": "python",
        "version": 3
      },
      "file_extension": ".py",
      "mimetype": "text/x-python",
      "name": "python",
      "nbconvert_exporter": "python",
      "pygments_lexer": "ipython3",
      "version": "3.8"
    }
  },
  "nbformat_minor": 4,
  "nbformat": 4,
  "cells": [
    {
      "cell_type": "code",
      "source": "def calculate_coins(total_squares):\n    coins = []\n    coins_on_previous_square = 1  # Start with 1 coin on the first square\n    \n    for i in range(total_squares):\n        coins.append(coins_on_previous_square)\n        coins_on_previous_square *= 2  # Double the coins for the next square\n    \n    return coins\n\n# Number of chess squares\ntotal_squares = 64\n\n# Calculate the number of coins on each square\ncoins = calculate_coins(total_squares)\n\n# Print the list of coins for each square\nprint(\"Number of coins on each chess square:\")\nfor index, coin in enumerate(coins, start=1):\n    print(f\"Square {index}: {coin} coins\")\n\n# Print the number of coins on the 64th square\nprint(f\"\\nThe number of coins on the 64th square is: {coins[-1]}\")\n",
      "metadata": {
        "trusted": true
      },
      "outputs": [
        {
          "name": "stdout",
          "text": "Number of coins on each chess square:\nSquare 1: 1 coins\nSquare 2: 2 coins\nSquare 3: 4 coins\nSquare 4: 8 coins\nSquare 5: 16 coins\nSquare 6: 32 coins\nSquare 7: 64 coins\nSquare 8: 128 coins\nSquare 9: 256 coins\nSquare 10: 512 coins\nSquare 11: 1024 coins\nSquare 12: 2048 coins\nSquare 13: 4096 coins\nSquare 14: 8192 coins\nSquare 15: 16384 coins\nSquare 16: 32768 coins\nSquare 17: 65536 coins\nSquare 18: 131072 coins\nSquare 19: 262144 coins\nSquare 20: 524288 coins\nSquare 21: 1048576 coins\nSquare 22: 2097152 coins\nSquare 23: 4194304 coins\nSquare 24: 8388608 coins\nSquare 25: 16777216 coins\nSquare 26: 33554432 coins\nSquare 27: 67108864 coins\nSquare 28: 134217728 coins\nSquare 29: 268435456 coins\nSquare 30: 536870912 coins\nSquare 31: 1073741824 coins\nSquare 32: 2147483648 coins\nSquare 33: 4294967296 coins\nSquare 34: 8589934592 coins\nSquare 35: 17179869184 coins\nSquare 36: 34359738368 coins\nSquare 37: 68719476736 coins\nSquare 38: 137438953472 coins\nSquare 39: 274877906944 coins\nSquare 40: 549755813888 coins\nSquare 41: 1099511627776 coins\nSquare 42: 2199023255552 coins\nSquare 43: 4398046511104 coins\nSquare 44: 8796093022208 coins\nSquare 45: 17592186044416 coins\nSquare 46: 35184372088832 coins\nSquare 47: 70368744177664 coins\nSquare 48: 140737488355328 coins\nSquare 49: 281474976710656 coins\nSquare 50: 562949953421312 coins\nSquare 51: 1125899906842624 coins\nSquare 52: 2251799813685248 coins\nSquare 53: 4503599627370496 coins\nSquare 54: 9007199254740992 coins\nSquare 55: 18014398509481984 coins\nSquare 56: 36028797018963968 coins\nSquare 57: 72057594037927936 coins\nSquare 58: 144115188075855872 coins\nSquare 59: 288230376151711744 coins\nSquare 60: 576460752303423488 coins\nSquare 61: 1152921504606846976 coins\nSquare 62: 2305843009213693952 coins\nSquare 63: 4611686018427387904 coins\nSquare 64: 9223372036854775808 coins\n\nThe number of coins on the 64th square is: 9223372036854775808\n",
          "output_type": "stream"
        }
      ],
      "execution_count": 15
    },
    {
      "cell_type": "code",
      "source": "",
      "metadata": {
        "trusted": true
      },
      "outputs": [],
      "execution_count": null
    }
  ]
}